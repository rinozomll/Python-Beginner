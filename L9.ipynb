{
 "cells": [
  {
   "cell_type": "code",
   "execution_count": 21,
   "id": "511a7775-883d-4c17-9014-1b97c3d96cec",
   "metadata": {},
   "outputs": [],
   "source": [
    "from PIL import Image\n",
    "from IPython.display import display"
   ]
  },
  {
   "cell_type": "code",
   "execution_count": 23,
   "id": "9131c12c-7778-4bdf-bb56-32b3f3fd2617",
   "metadata": {},
   "outputs": [],
   "source": [
    "pic = Image.open(r\"0513.jpg\")"
   ]
  },
  {
   "cell_type": "code",
   "execution_count": 25,
   "id": "06e61f2f-ec0f-4360-ab34-911f6ec105d2",
   "metadata": {},
   "outputs": [
    {
     "name": "stdout",
     "output_type": "stream",
     "text": [
      "圖片寬度: 3024\n",
      "圖片高度: 4032\n",
      "圖片檔案格式: JPEG\n",
      "圖片色彩模式: RGB\n",
      "圖片大小: (3024, 4032)\n"
     ]
    }
   ],
   "source": [
    "print(\"圖片寬度:\", pic.width)\n",
    "print(\"圖片高度:\", pic.height)\n",
    "print(\"圖片檔案格式:\", pic.format)\n",
    "print(\"圖片色彩模式:\", pic.mode)\n",
    "print(\"圖片大小:\", pic.size)"
   ]
  },
  {
   "cell_type": "code",
   "execution_count": 27,
   "id": "9180ad1d-a501-4479-876d-ed3cec6cfb9a",
   "metadata": {},
   "outputs": [],
   "source": [
    "pic.show()"
   ]
  },
  {
   "cell_type": "code",
   "execution_count": 29,
   "id": "0375c978-0f11-4f0a-89f7-858d92c082cd",
   "metadata": {},
   "outputs": [
    {
     "name": "stdout",
     "output_type": "stream",
     "text": [
      "原本的圖片色彩模式: RGB\n",
      "轉換黑白後的圖片色彩模式: 1\n"
     ]
    }
   ],
   "source": [
    "print('原本的圖片色彩模式:',pic.mode)\n",
    "new_pic=pic.convert('1')\n",
    "new_pic.show()\n",
    "print('轉換黑白後的圖片色彩模式:', new_pic.mode)"
   ]
  },
  {
   "cell_type": "code",
   "execution_count": 17,
   "id": "61128e49-13b4-4ff9-93af-e1a804052aa0",
   "metadata": {},
   "outputs": [],
   "source": [
    "new_pic2=pic.rotate(-30)\n",
    "new_pic2.show()"
   ]
  },
  {
   "cell_type": "code",
   "execution_count": 19,
   "id": "36e8c57f-d320-4828-bae9-2e3372b4bf6d",
   "metadata": {},
   "outputs": [],
   "source": [
    "from PIL import Image\n",
    "from PIL import ImageFilter\n",
    "pic=Image.open(r\"0513.jpg\")"
   ]
  },
  {
   "cell_type": "code",
   "execution_count": 33,
   "id": "0105a676-0d28-4f64-9973-aefceba10df2",
   "metadata": {},
   "outputs": [],
   "source": [
    "new_pic=pic.filter(ImageFilter.CONTOUR)\n",
    "new_pic.save(r\"0513.jpg\")\n",
    "new_pic.show()"
   ]
  },
  {
   "cell_type": "code",
   "execution_count": 35,
   "id": "ea6bb979-b82d-40d2-88f8-9b9355559bc0",
   "metadata": {},
   "outputs": [
    {
     "name": "stdout",
     "output_type": "stream",
     "text": [
      "原圖大小: (3024, 4032)\n",
      "縮放後圖形大小: (400, 400)\n"
     ]
    }
   ],
   "source": [
    "print('原圖大小:', pic.size)\n",
    "new_pic=pic.resize((400,400))\n",
    "print('縮放後圖形大小:', new_pic.size)\n",
    "new_pic.save(r\"0513.jpg\")\n",
    "new_pic.show()"
   ]
  },
  {
   "cell_type": "code",
   "execution_count": 37,
   "id": "b0dd5ca1-19b4-4660-a1ef-6b3fdcba45a7",
   "metadata": {},
   "outputs": [],
   "source": [
    "from PIL import Image, ImageFont, ImageDraw\n",
    "pic=Image.open(r\"0513.jpg\")"
   ]
  },
  {
   "cell_type": "code",
   "execution_count": 41,
   "id": "00c0aaba-65c0-452c-88a0-14821db3f875",
   "metadata": {},
   "outputs": [],
   "source": [
    "t_font=ImageFont.truetype('c://Windows/(Fonts//Arial//arial.ttf', 30)\n",
    "draw=ImageDraw. Draw(pic)\n",
    "\n",
    "draw. text((20,30), 'TOKYO', font=t_font, f111=(255,0,0,255)) \n",
    "draw. text((20,100), 'dog', font=t_font, fill=(9,255,0,255)) \n",
    "pic.show()"
   ]
  },
  {
   "cell_type": "code",
   "execution_count": null,
   "id": "6251a526-3719-4d48-86f9-1e0865823ef9",
   "metadata": {},
   "outputs": [],
   "source": []
  }
 ],
 "metadata": {
  "kernelspec": {
   "display_name": "Python [conda env:base] *",
   "language": "python",
   "name": "conda-base-py"
  },
  "language_info": {
   "codemirror_mode": {
    "name": "ipython",
    "version": 3
   },
   "file_extension": ".py",
   "mimetype": "text/x-python",
   "name": "python",
   "nbconvert_exporter": "python",
   "pygments_lexer": "ipython3",
   "version": "3.12.7"
  }
 },
 "nbformat": 4,
 "nbformat_minor": 5
}
