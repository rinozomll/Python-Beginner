{
 "cells": [
  {
   "cell_type": "code",
   "execution_count": 1,
   "id": "7a849457-37b6-43c5-9335-556b4e2569fa",
   "metadata": {},
   "outputs": [
    {
     "name": "stdout",
     "output_type": "stream",
     "text": [
      "Today's fruits is:Tomata\n"
     ]
    }
   ],
   "source": [
    "import random\n",
    "fruits=['Apple','Orange','Banana','Pear','Tomata']\n",
    "cf=random.choice(fruits)\n",
    "print(\"Today's fruits is:\"+cf)"
   ]
  },
  {
   "cell_type": "code",
   "execution_count": 3,
   "id": "d80e7003-2f48-4f52-bbef-4d414d96b634",
   "metadata": {},
   "outputs": [
    {
     "name": "stdin",
     "output_type": "stream",
     "text": [
      "請輸入景氣對策信號綜合分數 10\n"
     ]
    },
    {
     "name": "stdout",
     "output_type": "stream",
     "text": [
      "藍燈\n"
     ]
    }
   ],
   "source": [
    "score=int(input('請輸入景氣對策信號綜合分數'))\n",
    "if score>45 or score<9:\n",
    "    print('錯誤')\n",
    "elif score>=37:\n",
    "    print('紅燈')\n",
    "elif score>=31:\n",
    "    print('黃紅燈')\n",
    "elif score>=22:\n",
    "    print('綠燈')\n",
    "elif score>=16:\n",
    "    print('黃藍燈')\n",
    "elif score>=9:\n",
    "    print('藍燈')"
   ]
  },
  {
   "cell_type": "code",
   "execution_count": 19,
   "id": "68454441-b066-47b8-9e0b-ffc480ff475d",
   "metadata": {},
   "outputs": [
    {
     "name": "stdin",
     "output_type": "stream",
     "text": [
      "請輸入淨年所得額 11000000\n"
     ]
    },
    {
     "name": "stdout",
     "output_type": "stream",
     "text": [
      "應繳稅額= 3645000.0\n"
     ]
    }
   ],
   "source": [
    "level1=520000*0.05\n",
    "level2=(1170000-520000)*0.12\n",
    "level3=(2350000-1170000)*0.2\n",
    "level4=(4400000-2350000)*0.3\n",
    "level5=(10000000-4400000)*0.4\n",
    "income=int(input('請輸入淨年所得額'))\n",
    "\n",
    "if income<=520000:\n",
    "    tax=income*0.05\n",
    "    \n",
    "elif income <=1170000:\n",
    "    tax=level1+((income-520000)*0.12)\n",
    "    \n",
    "elif income <=2350000:\n",
    "    tax=level1+level2+((income-1170000)*0.2)\n",
    "    \n",
    "elif income <=4400000:\n",
    "    tax=level1+level2+level3+((income-2350000)*0.3)\n",
    "    \n",
    "elif income <=10000000:\n",
    "    tax=level1+level2+level3+level4+((income-4400000)*0.4)\n",
    "    \n",
    "else:\n",
    "    tax=level1+level2+level3+level4+level5+((income-10000000)*0.45)\n",
    "    \n",
    "print('應繳稅額=', tax)"
   ]
  },
  {
   "cell_type": "code",
   "execution_count": null,
   "id": "4e3fc442-c155-47e5-a735-71f1bef337b5",
   "metadata": {},
   "outputs": [],
   "source": []
  }
 ],
 "metadata": {
  "kernelspec": {
   "display_name": "Python [conda env:base] *",
   "language": "python",
   "name": "conda-base-py"
  },
  "language_info": {
   "codemirror_mode": {
    "name": "ipython",
    "version": 3
   },
   "file_extension": ".py",
   "mimetype": "text/x-python",
   "name": "python",
   "nbconvert_exporter": "python",
   "pygments_lexer": "ipython3",
   "version": "3.12.7"
  }
 },
 "nbformat": 4,
 "nbformat_minor": 5
}
