{
 "cells": [
  {
   "cell_type": "code",
   "execution_count": 7,
   "id": "c03b3089-3bbf-4155-be54-4a936ed79a95",
   "metadata": {},
   "outputs": [],
   "source": [
    "import speech_recognition\n",
    "r=speech_recognition.Recognizer()\n",
    "with speech_recognition.Microphone() as source:\n",
    "    audio = r.listen(source)"
   ]
  },
  {
   "cell_type": "code",
   "execution_count": 8,
   "id": "eb2cfa1d-f1da-4c72-8a28-a435a628f132",
   "metadata": {},
   "outputs": [
    {
     "data": {
      "text/plain": [
       "'你好'"
      ]
     },
     "execution_count": 8,
     "metadata": {},
     "output_type": "execute_result"
    }
   ],
   "source": [
    "r.recognize_google(audio, language='zh-Tw')"
   ]
  },
  {
   "cell_type": "code",
   "execution_count": 15,
   "id": "aff5e7b1-769b-4fa6-a5ca-fcdfcac29e33",
   "metadata": {},
   "outputs": [],
   "source": [
    "import speech_recognition\n",
    "r=speech_recognition.Recognizer()\n",
    "with speech_recognition.Microphone() as source:\n",
    "    audio = r.listen(source)"
   ]
  },
  {
   "cell_type": "code",
   "execution_count": 17,
   "id": "6eeeb6f1-112e-43f3-99d3-c48676f18e95",
   "metadata": {},
   "outputs": [
    {
     "data": {
      "text/plain": [
       "'Toyota'"
      ]
     },
     "execution_count": 17,
     "metadata": {},
     "output_type": "execute_result"
    }
   ],
   "source": [
    "r.recognize_google(audio, language='en')"
   ]
  },
  {
   "cell_type": "code",
   "execution_count": 19,
   "id": "e16d2e17-258b-4320-8583-e9f5c58a75d5",
   "metadata": {},
   "outputs": [],
   "source": [
    "import speech_recognition\n",
    "r=speech_recognition.Recognizer()\n",
    "with speech_recognition.Microphone() as source:\n",
    "    audio = r.listen(source)"
   ]
  },
  {
   "cell_type": "code",
   "execution_count": 21,
   "id": "4ce330bc-a0b3-483d-bade-f63d4938635c",
   "metadata": {},
   "outputs": [],
   "source": [
    "result=r.recognize_google(audio, language='ja')"
   ]
  },
  {
   "cell_type": "code",
   "execution_count": 23,
   "id": "8706f351-b051-49ac-9667-6c702d29c4a1",
   "metadata": {},
   "outputs": [
    {
     "name": "stdout",
     "output_type": "stream",
     "text": [
      "レフリー\n"
     ]
    }
   ],
   "source": [
    "print(result)"
   ]
  },
  {
   "cell_type": "code",
   "execution_count": 21,
   "id": "b9b50e86-cc63-4977-8eb9-3effb4fe5daa",
   "metadata": {},
   "outputs": [],
   "source": [
    "from gtts import gTTS\n",
    "import os\n",
    "\n",
    "# 要轉成語音的文字\n",
    "text = \"Hello! This is a gTTS test.\"\n",
    "\n",
    "# 建立 gTTS 物件\n",
    "tts = gTTS(text=text, lang='en')\n",
    "\n",
    "# 存成 mp3 檔案\n",
    "tts.save(\"output2.mp3\")\n"
   ]
  },
  {
   "cell_type": "code",
   "execution_count": 5,
   "id": "414f5230-aed0-4899-9853-751e426e5bfc",
   "metadata": {},
   "outputs": [
    {
     "name": "stdout",
     "output_type": "stream",
     "text": [
      "pygame 2.6.1 (SDL 2.28.4, Python 3.12.7)\n",
      "Hello from the pygame community. https://www.pygame.org/contribute.html\n"
     ]
    }
   ],
   "source": [
    "import pygame\n",
    "from pygame import mixer\n",
    "pygame.mixer.init()\n",
    "\n",
    "\n",
    "pygame.mixer.music.load(\"output.mp3\")\n",
    "\n",
    "\n",
    "pygame.mixer.music.play()\n",
    "\n"
   ]
  },
  {
   "cell_type": "code",
   "execution_count": 9,
   "id": "ac15b005-306b-4f48-8797-2381a88cc5ee",
   "metadata": {
    "jupyter": {
     "source_hidden": true
    }
   },
   "outputs": [],
   "source": [
    "def speak(sentence):\n",
    "    with tempfile.NamedTemporaryFile(delete=True) as fp:\n",
    "        tts = gTTS(text=sentence, lang='zh-CN')\n",
    "        tts.save(\"{}.mp3\".format(fp.name))\n",
    "        mixer.music.load(\"{}.mp3\".format(fp.name))\n",
    "        mixer.music.play()\n",
    "speak('我愛你')"
   ]
  },
  {
   "cell_type": "code",
   "execution_count": 15,
   "id": "09a343fc-7332-40e8-83f7-9cdd0ae3ba2c",
   "metadata": {},
   "outputs": [],
   "source": [
    "def speak(sentence):\n",
    "    with tempfile.NamedTemporaryFile(delete=True) as fp:\n",
    "        tts = gTTS(text=sentence, lang='ja')\n",
    "        tts.save(\"{}.mp3\".format(fp.name))\n",
    "        mixer.music.load(\"{}.mp3\".format(fp.name))\n",
    "        mixer.music.play()\n",
    "speak('この近くにコンビニがありますか？')\n"
   ]
  },
  {
   "cell_type": "code",
   "execution_count": 13,
   "id": "2e3a3fab-8c69-4314-88f3-54e0c3a4c674",
   "metadata": {},
   "outputs": [],
   "source": [
    "def speak(sentence):\n",
    "    with tempfile.NamedTemporaryFile(delete=True) as fp:\n",
    "        tts = gTTS(text=sentence, lang='zh-CN')\n",
    "        tts.save(\"{}.mp3\".format(fp.name))\n",
    "        mixer.music.load(\"{}.mp3\".format(fp.name))\n",
    "        mixer.music.play()\n",
    "speak('我愛你')"
   ]
  }
 ],
 "metadata": {
  "kernelspec": {
   "display_name": "Python [conda env:base] *",
   "language": "python",
   "name": "conda-base-py"
  },
  "language_info": {
   "codemirror_mode": {
    "name": "ipython",
    "version": 3
   },
   "file_extension": ".py",
   "mimetype": "text/x-python",
   "name": "python",
   "nbconvert_exporter": "python",
   "pygments_lexer": "ipython3",
   "version": "3.12.7"
  }
 },
 "nbformat": 4,
 "nbformat_minor": 5
}
